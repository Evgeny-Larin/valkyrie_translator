{
 "cells": [
  {
   "cell_type": "code",
   "execution_count": 1,
   "id": "1a1672ee",
   "metadata": {},
   "outputs": [],
   "source": [
    "from zipfile import ZipFile\n",
    "import pandas as pd"
   ]
  },
  {
   "cell_type": "markdown",
   "id": "98fd47ab",
   "metadata": {},
   "source": [
    "Выбор пользователем нужного файла"
   ]
  },
  {
   "cell_type": "code",
   "execution_count": 2,
   "id": "8d12c7b4",
   "metadata": {},
   "outputs": [],
   "source": [
    "path = r'C:\\Users\\Evgeny Larin\\anaconda_projects\\MoMValkyrieTranslations\\valkyrie_translator\\test_files\\test.valkyrie'"
   ]
  },
  {
   "cell_type": "code",
   "execution_count": 3,
   "id": "dc7ca994",
   "metadata": {},
   "outputs": [],
   "source": [
    "# открываем архив в режиме 'a' (для добавления файлов в архив)\n",
    "archive = ZipFile(fr'{path}', 'a')"
   ]
  },
  {
   "cell_type": "code",
   "execution_count": 4,
   "id": "26803481",
   "metadata": {},
   "outputs": [],
   "source": [
    "# получаем весь список файлов в архиве\n",
    "files_list = [file.filename for file in archive.infolist()]"
   ]
  },
  {
   "cell_type": "code",
   "execution_count": 5,
   "id": "f693b0c7",
   "metadata": {},
   "outputs": [],
   "source": [
    "# проверяем, есть ли русская локализация в файле, иначе получаем список других локализаций\n",
    "if 'Localization.Russian.txt' in files_list:\n",
    "    print('Сюжет уже переведен на русский язык')\n",
    "else:\n",
    "    # если файл содержит 'Localization', сохраняем в словарь пару 'название файла':'язык'\n",
    "    loc_list = {file.split('.')[1] : file for file in files_list if file.find('Localization') >= 0}"
   ]
  },
  {
   "cell_type": "code",
   "execution_count": 6,
   "id": "1a9835b8",
   "metadata": {},
   "outputs": [
    {
     "data": {
      "text/plain": [
       "{'Czech': 'Localization.Czech.txt',\n",
       " 'English': 'Localization.English.txt',\n",
       " 'German': 'Localization.German.txt'}"
      ]
     },
     "execution_count": 6,
     "metadata": {},
     "output_type": "execute_result"
    }
   ],
   "source": [
    "loc_list"
   ]
  },
  {
   "cell_type": "markdown",
   "id": "9aac8327",
   "metadata": {},
   "source": [
    "Выбор пользователем нужного языка"
   ]
  },
  {
   "cell_type": "code",
   "execution_count": 7,
   "id": "83d3bee7",
   "metadata": {},
   "outputs": [],
   "source": [
    "loc_select = loc_list['English']"
   ]
  },
  {
   "cell_type": "code",
   "execution_count": 10,
   "id": "46b8abc8",
   "metadata": {},
   "outputs": [
    {
     "data": {
      "text/plain": [
       "'Localization.English.txt'"
      ]
     },
     "execution_count": 10,
     "metadata": {},
     "output_type": "execute_result"
    }
   ],
   "source": [
    "loc_select"
   ]
  },
  {
   "cell_type": "code",
   "execution_count": 18,
   "id": "ba0cb611",
   "metadata": {},
   "outputs": [],
   "source": [
    "# открываем файл, читаем с помощью pandas\n",
    "with archive.open(loc_select) as text: \n",
    "    df = pd.read_csv(text,\n",
    "                     sep='^([^,]+),',\n",
    "                     engine='python',\n",
    "                     header = None,\n",
    "                     usecols = range(1,3))\n",
    "    df.rename(columns={2:'text'}, inplace = True)"
   ]
  },
  {
   "cell_type": "code",
   "execution_count": 19,
   "id": "b7e71503",
   "metadata": {},
   "outputs": [
    {
     "data": {
      "text/html": [
       "<div>\n",
       "<style scoped>\n",
       "    .dataframe tbody tr th:only-of-type {\n",
       "        vertical-align: middle;\n",
       "    }\n",
       "\n",
       "    .dataframe tbody tr th {\n",
       "        vertical-align: top;\n",
       "    }\n",
       "\n",
       "    .dataframe thead th {\n",
       "        text-align: right;\n",
       "    }\n",
       "</style>\n",
       "<table border=\"1\" class=\"dataframe\">\n",
       "  <thead>\n",
       "    <tr style=\"text-align: right;\">\n",
       "      <th></th>\n",
       "      <th>1</th>\n",
       "      <th>text</th>\n",
       "    </tr>\n",
       "  </thead>\n",
       "  <tbody>\n",
       "    <tr>\n",
       "      <th>0</th>\n",
       "      <td>.</td>\n",
       "      <td>English</td>\n",
       "    </tr>\n",
       "    <tr>\n",
       "      <th>1</th>\n",
       "      <td>quest.name</td>\n",
       "      <td>Eyes behind the Mirror</td>\n",
       "    </tr>\n",
       "    <tr>\n",
       "      <th>2</th>\n",
       "      <td>quest.authors_short</td>\n",
       "      <td>Anton Timmermans</td>\n",
       "    </tr>\n",
       "    <tr>\n",
       "      <th>3</th>\n",
       "      <td>quest.authors</td>\n",
       "      <td>\"Created by: &lt;i&gt;Anton Timmermans&lt;/i&gt; and &lt;i&gt;Wi...</td>\n",
       "    </tr>\n",
       "    <tr>\n",
       "      <th>4</th>\n",
       "      <td>quest.description</td>\n",
       "      <td>|||&lt;i&gt;The Silver Twilight Lodge strikes back! ...</td>\n",
       "    </tr>\n",
       "    <tr>\n",
       "      <th>...</th>\n",
       "      <td>...</td>\n",
       "      <td>...</td>\n",
       "    </tr>\n",
       "    <tr>\n",
       "      <th>2796</th>\n",
       "      <td>EventBridgeReleaseFail.button1</td>\n",
       "      <td>{qst:CONTINUE}</td>\n",
       "    </tr>\n",
       "    <tr>\n",
       "      <th>2797</th>\n",
       "      <td>EventBridgeReleaseFail.text</td>\n",
       "      <td>{qst:EventStudyReleaseFail.text}</td>\n",
       "    </tr>\n",
       "    <tr>\n",
       "      <th>2798</th>\n",
       "      <td>SpawnBridgeStarSpawn.button1</td>\n",
       "      <td>{qst:CONTINUE}</td>\n",
       "    </tr>\n",
       "    <tr>\n",
       "      <th>2799</th>\n",
       "      <td>SpawnBridgeStarSpawn.text</td>\n",
       "      <td>\"The ship rocks slightly to the side as someth...</td>\n",
       "    </tr>\n",
       "    <tr>\n",
       "      <th>2800</th>\n",
       "      <td>eventWORKINPROGRESS.text</td>\n",
       "      <td>------ The text beyond this point is work in p...</td>\n",
       "    </tr>\n",
       "  </tbody>\n",
       "</table>\n",
       "<p>2801 rows × 2 columns</p>\n",
       "</div>"
      ],
      "text/plain": [
       "                                   1  \\\n",
       "0                                  .   \n",
       "1                         quest.name   \n",
       "2                quest.authors_short   \n",
       "3                      quest.authors   \n",
       "4                  quest.description   \n",
       "...                              ...   \n",
       "2796  EventBridgeReleaseFail.button1   \n",
       "2797     EventBridgeReleaseFail.text   \n",
       "2798    SpawnBridgeStarSpawn.button1   \n",
       "2799       SpawnBridgeStarSpawn.text   \n",
       "2800        eventWORKINPROGRESS.text   \n",
       "\n",
       "                                                   text  \n",
       "0                                               English  \n",
       "1                                Eyes behind the Mirror  \n",
       "2                                      Anton Timmermans  \n",
       "3     \"Created by: <i>Anton Timmermans</i> and <i>Wi...  \n",
       "4     |||<i>The Silver Twilight Lodge strikes back! ...  \n",
       "...                                                 ...  \n",
       "2796                                     {qst:CONTINUE}  \n",
       "2797                   {qst:EventStudyReleaseFail.text}  \n",
       "2798                                     {qst:CONTINUE}  \n",
       "2799  \"The ship rocks slightly to the side as someth...  \n",
       "2800  ------ The text beyond this point is work in p...  \n",
       "\n",
       "[2801 rows x 2 columns]"
      ]
     },
     "execution_count": 19,
     "metadata": {},
     "output_type": "execute_result"
    }
   ],
   "source": [
    "df"
   ]
  },
  {
   "cell_type": "code",
   "execution_count": null,
   "id": "15729f7a",
   "metadata": {},
   "outputs": [],
   "source": []
  }
 ],
 "metadata": {
  "kernelspec": {
   "display_name": "Python 3 (ipykernel)",
   "language": "python",
   "name": "python3"
  },
  "language_info": {
   "codemirror_mode": {
    "name": "ipython",
    "version": 3
   },
   "file_extension": ".py",
   "mimetype": "text/x-python",
   "name": "python",
   "nbconvert_exporter": "python",
   "pygments_lexer": "ipython3",
   "version": "3.9.12"
  }
 },
 "nbformat": 4,
 "nbformat_minor": 5
}
