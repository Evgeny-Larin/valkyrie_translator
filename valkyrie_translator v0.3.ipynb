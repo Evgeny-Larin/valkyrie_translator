{
 "cells": [
  {
   "cell_type": "code",
   "execution_count": 1,
   "id": "1a1672ee",
   "metadata": {},
   "outputs": [],
   "source": [
    "from zipfile import ZipFile\n",
    "import pandas as pd"
   ]
  },
  {
   "cell_type": "code",
   "execution_count": 3,
   "id": "8d12c7b4",
   "metadata": {},
   "outputs": [],
   "source": [
    "path = r'C:\\Users\\Evgeny Larin\\anaconda_projects\\MoMValkyrieTranslations\\git\\valkyrie_translator\\EyesBehindTheMirror.valkyrie'"
   ]
  },
  {
   "cell_type": "code",
   "execution_count": 7,
   "id": "dc7ca994",
   "metadata": {},
   "outputs": [],
   "source": [
    "# открываем архив в режиме 'a' (для добавления файлов в архив)\n",
    "archive = ZipFile(fr'{path}', 'a')"
   ]
  },
  {
   "cell_type": "code",
   "execution_count": 8,
   "id": "26803481",
   "metadata": {},
   "outputs": [],
   "source": [
    "# получаем весь список файлов в архиве\n",
    "files_list = [file.filename for file in archive.infolist()]"
   ]
  },
  {
   "cell_type": "code",
   "execution_count": 34,
   "id": "f693b0c7",
   "metadata": {},
   "outputs": [],
   "source": [
    "# проверяем, есть ли русская локализация в файле, иначе получаем список других локализаций\n",
    "if 'Localization.Russian.txt' in files_list:\n",
    "    print('Сюжет уже переведен на русский язык')\n",
    "else:\n",
    "    # если файл содержит 'Localization', сохраняем в словарь пару 'название файла':'язык'\n",
    "    loc_list2 = {file : file.split('.')[1] for file in files_list if file.find('Localization') >= 0}"
   ]
  },
  {
   "cell_type": "code",
   "execution_count": 35,
   "id": "1a9835b8",
   "metadata": {},
   "outputs": [
    {
     "data": {
      "text/plain": [
       "{'Localization.Czech.txt': 'Czech',\n",
       " 'Localization.English.txt': 'English',\n",
       " 'Localization.German.txt': 'German'}"
      ]
     },
     "execution_count": 35,
     "metadata": {},
     "output_type": "execute_result"
    }
   ],
   "source": [
    "loc_list2"
   ]
  },
  {
   "cell_type": "code",
   "execution_count": null,
   "id": "c30b3bac",
   "metadata": {},
   "outputs": [],
   "source": []
  }
 ],
 "metadata": {
  "kernelspec": {
   "display_name": "Python 3 (ipykernel)",
   "language": "python",
   "name": "python3"
  },
  "language_info": {
   "codemirror_mode": {
    "name": "ipython",
    "version": 3
   },
   "file_extension": ".py",
   "mimetype": "text/x-python",
   "name": "python",
   "nbconvert_exporter": "python",
   "pygments_lexer": "ipython3",
   "version": "3.9.12"
  }
 },
 "nbformat": 4,
 "nbformat_minor": 5
}
